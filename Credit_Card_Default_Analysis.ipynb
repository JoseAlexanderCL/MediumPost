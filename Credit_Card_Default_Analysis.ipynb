{
  "nbformat": 4,
  "nbformat_minor": 0,
  "metadata": {
    "colab": {
      "name": "Credit Card.ipynb",
      "provenance": [],
      "collapsed_sections": []
    },
    "kernelspec": {
      "name": "python3",
      "display_name": "Python 3"
    }
  },
  "cells": [
    {
      "cell_type": "markdown",
      "metadata": {
        "id": "i2ebTA0x1RNo"
      },
      "source": [
        "**Analyzing Customer Default Payments for Credit Cards**\r\n"
      ]
    },
    {
      "cell_type": "markdown",
      "metadata": {
        "id": "nNnLs1VXJtJr"
      },
      "source": [
        "**Introduction**\r\n",
        "\r\n",
        "This jupyter notebook aims to apply the first steps of CRISP-DM Methodology on a case of Customers Default Payments in Taiwan. The dataset contains data of Gender, Education, Marital status, Payment behaviour and Default.\r\n",
        "\r\n",
        "For the business is critical to predict the default of customers over future periods, that way the business can keep the default under control and improve their approval policies.\r\n",
        "\r\n",
        "In general it would be interesting to find in a Exploratory Data Analysis phase variables related to the target variable (Default). With this in mind I'll be interested in answering the next questions:\r\n",
        "\r\n",
        "\r\n",
        "1. ***Does men have higher default rates compared to women?** (Just for analysis, this variable isn't allowed to use according to multiple regulatory conventions)*\r\n",
        "\r\n",
        "2. ***The default rates are lower for customers with higher level of education?***\r\n",
        "\r\n",
        "3. ***The delays in payments from previous months are related to default over next menth?***\r\n"
      ]
    },
    {
      "cell_type": "markdown",
      "metadata": {
        "id": "QdRhs2BKguK4"
      },
      "source": [
        "**Variable Descriptions:**\r\n",
        "\r\n",
        "- LIMIT_BAL: Amount of the given credit (NT dollar): it includes both the individual consumer credit and his/her family \r\n",
        "(supplementary) credit.\r\n",
        "- SEX:  (1 = male; 2 = female).\r\n",
        "- EDUCATION: Education Level (1 = graduate school; 2 = university; 3 = high school; 4 = others).\r\n",
        "- MARRIAGE: Marital status (1 = married; 2 = single; 3 = others).\r\n",
        "- AGE: Age of customer (year).\r\n",
        "- PAY_0 - PAY_6: History of past payment. We tracked the past monthly payment records (from April to September, 2005) as follows: PAY_0 = the repayment status in September, 2005; PAY_2 = the repayment status in August, 2005; . . .;PAY_6 = the repayment status in April, 2005. The measurement scale for the repayment status is: -1 = pay duly; 1 = payment delay for one month; 2 = payment delay for two months; . . .; 8 = payment delay for eight months; 9 = payment delay for nine months and above.\r\n",
        "- BILL_AMT1 - BILL_AMT6: Amount of bill statement (NT dollar). BILL_AM1 = amount of bill statement in September, 2005; BILL_AMT2 = amount of bill statement in August, 2005; . . .; BILL_AMT6 = amount of bill statement in April, 2005.\r\n",
        "- PAY_AMT1 - PAY_AMT1: Amount of previous payment (NT dollar). PAY_AMT1 = amount paid in September, 2005; PAY_AMT2 = amount paid in August, 2005; . . .;PAY_AMT6 = amount paid in April, 2005.\r\n",
        "- DEFAULT: Default Payment\r\n"
      ]
    },
    {
      "cell_type": "markdown",
      "metadata": {
        "id": "5eOhY1EIIsqj"
      },
      "source": [
        "**Preparing the Setup**"
      ]
    },
    {
      "cell_type": "code",
      "metadata": {
        "id": "YlKUnWZM1KC9"
      },
      "source": [
        "import pandas as pd\r\n",
        "import seaborn as sns\r\n",
        "from scipy.stats import ttest_ind\r\n",
        "import matplotlib.pyplot as plt\r\n"
      ],
      "execution_count": 1,
      "outputs": []
    },
    {
      "cell_type": "markdown",
      "metadata": {
        "id": "trcDHVBUI_h4"
      },
      "source": [
        "**Import and Preview of Data**\r\n",
        "\r\n",
        "According"
      ]
    },
    {
      "cell_type": "code",
      "metadata": {
        "id": "VF3Hsswn52LA",
        "colab": {
          "base_uri": "https://localhost:8080/"
        },
        "outputId": "2276c4bc-8b0c-4a79-f484-0950a57b0b68"
      },
      "source": [
        "#The first row contains names like 'X1-X2', second row contains more descriptive names for variables\r\n",
        "url = 'https://archive.ics.uci.edu/ml/machine-learning-databases/00350/default%20of%20credit%20card%20clients.xls'\r\n",
        "#df = pd.read_excel('default of credit card clients.xls',header=1) Reading the file locally\r\n",
        "df = pd.read_excel(url,header=1) #Reading the file from the web\r\n",
        "df.drop(['ID'],axis=1,inplace=True) #Droping the ID column\r\n",
        "\r\n",
        "print(df.shape) #The dataset contains 30.000 rows and 24 columns \r\n",
        "print(df.head(5)) #Categorical features are stored as numbers"
      ],
      "execution_count": 2,
      "outputs": [
        {
          "output_type": "stream",
          "text": [
            "(30000, 24)\n",
            "   LIMIT_BAL  SEX  EDUCATION  ...  PAY_AMT5  PAY_AMT6  default payment next month\n",
            "0      20000    2          2  ...         0         0                           1\n",
            "1     120000    2          2  ...         0      2000                           1\n",
            "2      90000    2          2  ...      1000      5000                           0\n",
            "3      50000    2          2  ...      1069      1000                           0\n",
            "4      50000    1          2  ...       689       679                           0\n",
            "\n",
            "[5 rows x 24 columns]\n"
          ],
          "name": "stdout"
        }
      ]
    },
    {
      "cell_type": "markdown",
      "metadata": {
        "id": "ZI_0QQ3Eu7gZ"
      },
      "source": [
        "**Transforming categorical features for ease the analysis**\r\n",
        "\r\n",
        "Using the documentation of the dataset  [[here]](https://archive.ics.uci.edu/ml/datasets/default+of+credit+card+clients#) I map the numbers in categorical features to text for better summaries and plotting without adding extra labels later.\r\n",
        "\r\n",
        "I also change the name of the target because the original is too long. \r\n",
        "\r\n",
        "\r\n",
        "\r\n"
      ]
    },
    {
      "cell_type": "code",
      "metadata": {
        "colab": {
          "base_uri": "https://localhost:8080/"
        },
        "id": "DuIm4_40vewK",
        "outputId": "f3e6069c-2c0c-4d2a-ba43-d9a55c733ff7"
      },
      "source": [
        "#Mapping numbers to their meaning\r\n",
        "df['SEX']=df['SEX'].map({1:\"male\",2:\"female\"})\r\n",
        "df['EDUCATION']=df['EDUCATION'].map({1:\"a. graduate school\",2:\"b. university\",3:\"c. high school\",\r\n",
        "                                     4:\"d. other\",5:\"d. other\",6:\"d. other\"})\r\n",
        "df['MARRIAGE']=df['MARRIAGE'].map({1:\"married\",2:\"single\",3:\"other\"})\r\n",
        "\r\n",
        "df.rename(columns={'default payment next month': 'DEFAULT'}, inplace=True) #Renaming the target\r\n",
        "\r\n",
        "print(df.dtypes) #The data type for features are OK according to documentation of the dataset"
      ],
      "execution_count": 3,
      "outputs": [
        {
          "output_type": "stream",
          "text": [
            "LIMIT_BAL     int64\n",
            "SEX          object\n",
            "EDUCATION    object\n",
            "MARRIAGE     object\n",
            "AGE           int64\n",
            "PAY_0         int64\n",
            "PAY_2         int64\n",
            "PAY_3         int64\n",
            "PAY_4         int64\n",
            "PAY_5         int64\n",
            "PAY_6         int64\n",
            "BILL_AMT1     int64\n",
            "BILL_AMT2     int64\n",
            "BILL_AMT3     int64\n",
            "BILL_AMT4     int64\n",
            "BILL_AMT5     int64\n",
            "BILL_AMT6     int64\n",
            "PAY_AMT1      int64\n",
            "PAY_AMT2      int64\n",
            "PAY_AMT3      int64\n",
            "PAY_AMT4      int64\n",
            "PAY_AMT5      int64\n",
            "PAY_AMT6      int64\n",
            "DEFAULT       int64\n",
            "dtype: object\n"
          ],
          "name": "stdout"
        }
      ]
    },
    {
      "cell_type": "markdown",
      "metadata": {
        "id": "83ukuEFiFAKX"
      },
      "source": [
        "**There are Missing Values?**\r\n",
        "\r\n",
        "Yes, there are missing values in Education and Marriage variables but the percentage of missing values is low (<2%) so I'll impute the mode in those cases."
      ]
    },
    {
      "cell_type": "code",
      "metadata": {
        "id": "vghKNwVwFGUD"
      },
      "source": [
        "df.isna().mean() \r\n",
        "df['EDUCATION'].fillna(df['EDUCATION'].mode()[0],inplace=True)\r\n",
        "df['MARRIAGE'].fillna(df['MARRIAGE'].mode()[0],inplace=True)\r\n",
        "\r\n",
        "#Now the dataset has zero missing values\r\n"
      ],
      "execution_count": 4,
      "outputs": []
    },
    {
      "cell_type": "markdown",
      "metadata": {
        "id": "HrkxqTFEHABs"
      },
      "source": [
        "**Summary of  Data**"
      ]
    },
    {
      "cell_type": "code",
      "metadata": {
        "colab": {
          "base_uri": "https://localhost:8080/"
        },
        "id": "KFsySdviHQtQ",
        "outputId": "e7c81b8c-f1e7-4f48-cfc5-612aaa961340"
      },
      "source": [
        "print(df['SEX'].value_counts(normalize=True))\r\n",
        "#There are more women on this dataset (60.3%)\r\n",
        "\r\n",
        "print(df['EDUCATION'].value_counts(normalize=True))\r\n",
        "#Majority of customers have a higher level of education\r\n",
        "\r\n",
        "print(df['MARRIAGE'].value_counts(normalize=True))\r\n",
        "# There are more single customers than married\r\n",
        "\r\n",
        "print(df.describe().astype(int))\r\n",
        "#The average default rate is 22.1%"
      ],
      "execution_count": 5,
      "outputs": [
        {
          "output_type": "stream",
          "text": [
            "female    0.603733\n",
            "male      0.396267\n",
            "Name: SEX, dtype: float64\n",
            "b. university         0.468133\n",
            "a. graduate school    0.352833\n",
            "c. high school        0.163900\n",
            "d. other              0.015133\n",
            "Name: EDUCATION, dtype: float64\n",
            "single     0.533933\n",
            "married    0.455300\n",
            "other      0.010767\n",
            "Name: MARRIAGE, dtype: float64\n",
            "       LIMIT_BAL    AGE  PAY_0  PAY_2  ...  PAY_AMT4  PAY_AMT5  PAY_AMT6  DEFAULT\n",
            "count      30000  30000  30000  30000  ...     30000     30000     30000    30000\n",
            "mean      167484     35      0      0  ...      4826      4799      5215        0\n",
            "std       129747      9      1      1  ...     15666     15278     17777        0\n",
            "min        10000     21     -2     -2  ...         0         0         0        0\n",
            "25%        50000     28     -1     -1  ...       296       252       117        0\n",
            "50%       140000     34      0      0  ...      1500      1500      1500        0\n",
            "75%       240000     41      0      0  ...      4013      4031      4000        0\n",
            "max      1000000     79      8      8  ...    621000    426529    528666        1\n",
            "\n",
            "[8 rows x 21 columns]\n"
          ],
          "name": "stdout"
        }
      ]
    },
    {
      "cell_type": "markdown",
      "metadata": {
        "id": "l3M2QF2aMqUQ"
      },
      "source": [
        "**Question 1**: Does men have higher default rates compared to women?"
      ]
    },
    {
      "cell_type": "code",
      "metadata": {
        "colab": {
          "base_uri": "https://localhost:8080/",
          "height": 511
        },
        "id": "Rn7EbnekNDdf",
        "outputId": "363b00e4-c308-4f61-9dbd-3f154314807e"
      },
      "source": [
        "#Setting the style and size of plot\r\n",
        "sns.set_theme('paper')\r\n",
        "fig, ax = plt.subplots()\r\n",
        "fig.set_size_inches(8, 6)\r\n",
        "\r\n",
        "#Plotting 100% stacked bar chart for Sex and Default Level\r\n",
        "df.groupby('SEX')['DEFAULT'].value_counts(normalize=True).unstack('DEFAULT').plot.bar(stacked=True,ax=ax)\r\n",
        "# Using reference [1], The plot show a little increase in default rate for men\r\n",
        "\r\n",
        "print(df.groupby(\"SEX\").mean()[\"DEFAULT\"])\r\n",
        "\r\n",
        "\r\n",
        "#The difference looks relevant, but is statistically significant? \r\n",
        "\r\n",
        "stat, p = ttest_ind(df[(df['SEX']=='male')]['DEFAULT'],\r\n",
        "                    df[(df['SEX']=='female')]['DEFAULT'])\r\n",
        "\r\n",
        "print('stat=%.3f, p=%.3f' % (stat, p))\r\n",
        "if p > 0.05:\r\n",
        "\tprint('Can\\'t reject H0: mean_1 == mean_2')\r\n",
        "else:\r\n",
        "\tprint('Rejects H0 so the difference is significative')\r\n",
        "\r\n",
        "# A: The difference is significant\r\n"
      ],
      "execution_count": 13,
      "outputs": [
        {
          "output_type": "stream",
          "text": [
            "SEX\n",
            "female    0.207763\n",
            "male      0.241672\n",
            "Name: DEFAULT, dtype: float64\n",
            "stat=6.927, p=0.000\n",
            "Rejects H0 so the difference is significative\n"
          ],
          "name": "stdout"
        },
        {
          "output_type": "display_data",
          "data": {
            "image/png": "[encoded data removed]",
            "text/plain": [
              "<Figure size 576x432 with 1 Axes>"
            ]
          },
          "metadata": {
            "tags": []
          }
        }
      ]
    },
    {
      "cell_type": "markdown",
      "metadata": {
        "id": "EIGRPHA8RDgi"
      },
      "source": [
        "**Question 2: The default rates are lower for customers with higher level of education?**"
      ]
    },
    {
      "cell_type": "code",
      "metadata": {
        "colab": {
          "base_uri": "https://localhost:8080/",
          "height": 801
        },
        "id": "jL2L8MFbx_GH",
        "outputId": "885f1e58-c87b-4abc-d19a-1693b5f8d651"
      },
      "source": [
        "fig, ax = plt.subplots()\r\n",
        "fig.set_size_inches(8, 6)\r\n",
        "\r\n",
        "df.groupby('EDUCATION')['DEFAULT'].value_counts(normalize=True).unstack('DEFAULT').plot.bar(stacked=True,ax=ax)\r\n",
        "print(df.groupby('EDUCATION')['DEFAULT'].value_counts(normalize=True))\r\n",
        "print(df.groupby('EDUCATION')['DEFAULT'].value_counts())"
      ],
      "execution_count": 20,
      "outputs": [
        {
          "output_type": "stream",
          "text": [
            "EDUCATION           DEFAULT\n",
            "a. graduate school  0          0.807652\n",
            "                    1          0.192348\n",
            "b. university       0          0.762888\n",
            "                    1          0.237112\n",
            "c. high school      0          0.748424\n",
            "                    1          0.251576\n",
            "d. other            0          0.927313\n",
            "                    1          0.072687\n",
            "Name: DEFAULT, dtype: float64\n",
            "EDUCATION           DEFAULT\n",
            "a. graduate school  0           8549\n",
            "                    1           2036\n",
            "b. university       0          10714\n",
            "                    1           3330\n",
            "c. high school      0           3680\n",
            "                    1           1237\n",
            "d. other            0            421\n",
            "                    1             33\n",
            "Name: DEFAULT, dtype: int64\n"
          ],
          "name": "stdout"
        },
        {
          "output_type": "display_data",
          "data": {
            "image/png": "[encoded data removed]",
            "text/plain": [
              "<Figure size 576x432 with 1 Axes>"
            ]
          },
          "metadata": {
            "tags": []
          }
        }
      ]
    },
    {
      "cell_type": "markdown",
      "metadata": {
        "id": "kxfDH-Ndy5FU"
      },
      "source": [
        "The graduate school representes the highest level of education of customers. In this case it also shows lower level of default compared to University and High School. The lowest level of default is in the \"other\" category."
      ]
    },
    {
      "cell_type": "markdown",
      "metadata": {
        "id": "kRVSdlH_QdfQ"
      },
      "source": [
        "**Question 3: The delays in payments from previous months are related to default over next month?**\r\n",
        "\r\n",
        " Here I use a correlation matrix, another Exploratory Data Analysis technique for understading if there's a correlation between the delays and the Default of customers\r\n",
        "\r\n",
        "\r\n",
        "\r\n",
        "\r\n",
        "\r\n",
        "\r\n",
        "\r\n"
      ]
    },
    {
      "cell_type": "code",
      "metadata": {
        "colab": {
          "base_uri": "https://localhost:8080/",
          "height": 504
        },
        "id": "NQftJRtHcdES",
        "outputId": "6a6f4cc9-b173-4972-cb5f-9c831abd64f8"
      },
      "source": [
        "fig, ax = plt.subplots()\r\n",
        "fig.set_size_inches(10, 8)\r\n",
        "delay_and_target = ['PAY_0','PAY_2','PAY_3','PAY_4','PAY_5','PAY_6','DEFAULT']\r\n",
        "sns.heatmap(df[delay_and_target].corr(), annot=True,ax=ax)\r\n"
      ],
      "execution_count": 27,
      "outputs": [
        {
          "output_type": "execute_result",
          "data": {
            "text/plain": [
              "<matplotlib.axes._subplots.AxesSubplot at 0x7fca1eaac6d8>"
            ]
          },
          "metadata": {
            "tags": []
          },
          "execution_count": 27
        },
        {
          "output_type": "display_data",
          "data": {
            "image/png": "[encoded data removed]",
            "text/plain": [
              "<Figure size 720x576 with 2 Axes>"
            ]
          },
          "metadata": {
            "tags": []
          }
        }
      ]
    },
    {
      "cell_type": "markdown",
      "metadata": {
        "id": "OeYZYkD6ev1M"
      },
      "source": [
        "The correlation matrix (or heatmap) shows a weak but consistent correlation between Defaults and delays in payments from previous months. "
      ]
    },
    {
      "cell_type": "markdown",
      "metadata": {
        "id": "0iea1s0hV5Jx"
      },
      "source": [
        "**References**\r\n",
        "\r\n",
        "\r\n",
        "[[1] Stackoverflow: 100% Percentage Stack Barplot](https://stackoverflow.com/questions/64754905/100-stacked-bar-chart-python-seaborn-matplotlib)\r\n",
        "\r\n",
        "[[2] Machine Learning Mastery: Parametric Statistical Significance Tests in  Python](https://machinelearningmastery.com/parametric-statistical-significance-tests-in-python/)"
      ]
    }
  ]
}